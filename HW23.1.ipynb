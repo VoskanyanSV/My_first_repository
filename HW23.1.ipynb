{
 "cells": [
  {
   "cell_type": "code",
   "execution_count": 1,
   "id": "20ad8806-5bef-4e2d-817b-32b87c1d0f56",
   "metadata": {},
   "outputs": [],
   "source": [
    "import json"
   ]
  },
  {
   "cell_type": "code",
   "execution_count": 4,
   "id": "91812fb1-08d5-46f3-b04d-2cad4dc04ebc",
   "metadata": {},
   "outputs": [],
   "source": [
    "odd_num = list(range(1, 1000001, 2))"
   ]
  },
  {
   "cell_type": "code",
   "execution_count": 7,
   "id": "bd8dfce7-d33e-407c-859d-3d71caa2e32a",
   "metadata": {},
   "outputs": [],
   "source": [
    "with open(\"data.json\", \"w\") as f:\n",
    "    json.dump(odd_num, f)"
   ]
  },
  {
   "cell_type": "code",
   "execution_count": null,
   "id": "7c78ccee-93c2-4c82-9b8b-f7989f39b3b8",
   "metadata": {},
   "outputs": [],
   "source": []
  },
  {
   "cell_type": "code",
   "execution_count": null,
   "id": "b121768a-bd8b-4bd5-ab38-5f61349a627b",
   "metadata": {},
   "outputs": [],
   "source": []
  },
  {
   "cell_type": "code",
   "execution_count": null,
   "id": "5761c5ac-3d62-4147-aadf-f3adac7ba7d6",
   "metadata": {},
   "outputs": [],
   "source": []
  },
  {
   "cell_type": "code",
   "execution_count": null,
   "id": "cf33d81e-6e25-48fc-97c4-a4e8ff7ac3ab",
   "metadata": {},
   "outputs": [],
   "source": []
  }
 ],
 "metadata": {
  "kernelspec": {
   "display_name": "Python 3 (ipykernel)",
   "language": "python",
   "name": "python3"
  },
  "language_info": {
   "codemirror_mode": {
    "name": "ipython",
    "version": 3
   },
   "file_extension": ".py",
   "mimetype": "text/x-python",
   "name": "python",
   "nbconvert_exporter": "python",
   "pygments_lexer": "ipython3",
   "version": "3.11.4"
  }
 },
 "nbformat": 4,
 "nbformat_minor": 5
}
